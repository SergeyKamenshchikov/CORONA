{
  "nbformat": 4,
  "nbformat_minor": 0,
  "metadata": {
    "colab": {
      "name": "WikiSumCorpus_parse_build_evaluate.ipynb",
      "provenance": [],
      "collapsed_sections": [],
      "include_colab_link": true
    },
    "kernelspec": {
      "display_name": "summyenv1",
      "language": "python",
      "name": "summyenv1"
    },
    "language_info": {
      "codemirror_mode": {
        "name": "ipython",
        "version": 3
      },
      "file_extension": ".py",
      "mimetype": "text/x-python",
      "name": "python",
      "nbconvert_exporter": "python",
      "pygments_lexer": "ipython3",
      "version": "3.6.9"
    }
  },
  "cells": [
    {
      "cell_type": "markdown",
      "metadata": {
        "id": "view-in-github",
        "colab_type": "text"
      },
      "source": [
        "<a href=\"https://colab.research.google.com/github/SergeyKamenshchikov/CORONA/blob/master/WikiSumCorpus_parse_build_evaluate.ipynb\" target=\"_parent\"><img src=\"https://colab.research.google.com/assets/colab-badge.svg\" alt=\"Open In Colab\"/></a>"
      ]
    },
    {
      "cell_type": "code",
      "metadata": {
        "id": "iVNhHFV8T5nR",
        "colab": {
          "base_uri": "https://localhost:8080/"
        },
        "outputId": "ae78704c-1394-4fc7-d64e-699f71414b07"
      },
      "source": [
        "!pip3 show matplotlib"
      ],
      "execution_count": null,
      "outputs": [
        {
          "output_type": "stream",
          "text": [
            "Name: matplotlib\n",
            "Version: 3.2.2\n",
            "Summary: Python plotting package\n",
            "Home-page: https://matplotlib.org\n",
            "Author: John D. Hunter, Michael Droettboom\n",
            "Author-email: matplotlib-users@python.org\n",
            "License: PSF\n",
            "Location: /usr/local/lib/python3.6/dist-packages\n",
            "Requires: numpy, kiwisolver, python-dateutil, pyparsing, cycler\n",
            "Required-by: yellowbrick, seaborn, scikit-image, pycocotools, plotnine, pandas-profiling, mlxtend, mizani, missingno, matplotlib-venn, keras-vis, imgaug, fbprophet, fastai, descartes, daft\n"
          ],
          "name": "stdout"
        }
      ]
    },
    {
      "cell_type": "markdown",
      "metadata": {
        "id": "27FNQJlwVWM6"
      },
      "source": [
        "**install if needed**"
      ]
    },
    {
      "cell_type": "code",
      "metadata": {
        "id": "c9K_tqhlVWM6",
        "scrolled": true,
        "colab": {
          "base_uri": "https://localhost:8080/"
        },
        "outputId": "3940e497-c18b-4eb0-f2be-d85898346601"
      },
      "source": [
        "!pip3 install sumy\n",
        "!pip3 install rouge\n",
        "!pip3 install xlsxwriter\n",
        "!pip3 install xlrd\n",
        "!pip3 install wikipedia-api\n",
        "import nltk\n",
        "nltk.download('punkt')"
      ],
      "execution_count": null,
      "outputs": [
        {
          "output_type": "stream",
          "text": [
            "Collecting sumy\n",
            "\u001b[?25l  Downloading https://files.pythonhosted.org/packages/61/20/8abf92617ec80a2ebaec8dc1646a790fc9656a4a4377ddb9f0cc90bc9326/sumy-0.8.1-py2.py3-none-any.whl (83kB)\n",
            "\r\u001b[K     |████                            | 10kB 16.8MB/s eta 0:00:01\r\u001b[K     |███████▉                        | 20kB 13.1MB/s eta 0:00:01\r\u001b[K     |███████████▊                    | 30kB 7.0MB/s eta 0:00:01\r\u001b[K     |███████████████▋                | 40kB 6.6MB/s eta 0:00:01\r\u001b[K     |███████████████████▌            | 51kB 4.1MB/s eta 0:00:01\r\u001b[K     |███████████████████████▍        | 61kB 4.8MB/s eta 0:00:01\r\u001b[K     |███████████████████████████▍    | 71kB 5.1MB/s eta 0:00:01\r\u001b[K     |███████████████████████████████▎| 81kB 5.3MB/s eta 0:00:01\r\u001b[K     |████████████████████████████████| 92kB 3.5MB/s \n",
            "\u001b[?25hRequirement already satisfied: docopt<0.7,>=0.6.1 in /usr/local/lib/python3.6/dist-packages (from sumy) (0.6.2)\n",
            "Collecting breadability>=0.1.20\n",
            "  Downloading https://files.pythonhosted.org/packages/ad/2d/bb6c9b381e6b6a432aa2ffa8f4afdb2204f1ff97cfcc0766a5b7683fec43/breadability-0.1.20.tar.gz\n",
            "Requirement already satisfied: nltk>=3.0.2 in /usr/local/lib/python3.6/dist-packages (from sumy) (3.2.5)\n",
            "Requirement already satisfied: requests>=2.7.0 in /usr/local/lib/python3.6/dist-packages (from sumy) (2.23.0)\n",
            "Collecting pycountry>=18.2.23\n",
            "\u001b[?25l  Downloading https://files.pythonhosted.org/packages/76/73/6f1a412f14f68c273feea29a6ea9b9f1e268177d32e0e69ad6790d306312/pycountry-20.7.3.tar.gz (10.1MB)\n",
            "\u001b[K     |████████████████████████████████| 10.1MB 6.9MB/s \n",
            "\u001b[?25hRequirement already satisfied: chardet in /usr/local/lib/python3.6/dist-packages (from breadability>=0.1.20->sumy) (3.0.4)\n",
            "Requirement already satisfied: lxml>=2.0 in /usr/local/lib/python3.6/dist-packages (from breadability>=0.1.20->sumy) (4.2.6)\n",
            "Requirement already satisfied: six in /usr/local/lib/python3.6/dist-packages (from nltk>=3.0.2->sumy) (1.15.0)\n",
            "Requirement already satisfied: urllib3!=1.25.0,!=1.25.1,<1.26,>=1.21.1 in /usr/local/lib/python3.6/dist-packages (from requests>=2.7.0->sumy) (1.24.3)\n",
            "Requirement already satisfied: idna<3,>=2.5 in /usr/local/lib/python3.6/dist-packages (from requests>=2.7.0->sumy) (2.10)\n",
            "Requirement already satisfied: certifi>=2017.4.17 in /usr/local/lib/python3.6/dist-packages (from requests>=2.7.0->sumy) (2020.12.5)\n",
            "Building wheels for collected packages: breadability, pycountry\n",
            "  Building wheel for breadability (setup.py) ... \u001b[?25l\u001b[?25hdone\n",
            "  Created wheel for breadability: filename=breadability-0.1.20-py2.py3-none-any.whl size=21683 sha256=615c2d02b1f382a5ba17fbecfeeec11442c4af478608cb11ef62c1ed37d84288\n",
            "  Stored in directory: /root/.cache/pip/wheels/5a/4d/a1/510b12c5e65e0b2b3ce539b2af66da0fc57571e528924f4a52\n",
            "  Building wheel for pycountry (setup.py) ... \u001b[?25l\u001b[?25hdone\n",
            "  Created wheel for pycountry: filename=pycountry-20.7.3-py2.py3-none-any.whl size=10746863 sha256=15f2b8031163a5229b819792d10ea2044973826454a051755986ca408dacd03b\n",
            "  Stored in directory: /root/.cache/pip/wheels/33/4e/a6/be297e6b83567e537bed9df4a93f8590ec01c1acfbcd405348\n",
            "Successfully built breadability pycountry\n",
            "Installing collected packages: breadability, pycountry, sumy\n",
            "Successfully installed breadability-0.1.20 pycountry-20.7.3 sumy-0.8.1\n",
            "Collecting rouge\n",
            "  Downloading https://files.pythonhosted.org/packages/43/cc/e18e33be20971ff73a056ebdb023476b5a545e744e3fc22acd8c758f1e0d/rouge-1.0.0-py3-none-any.whl\n",
            "Requirement already satisfied: six in /usr/local/lib/python3.6/dist-packages (from rouge) (1.15.0)\n",
            "Installing collected packages: rouge\n",
            "Successfully installed rouge-1.0.0\n",
            "Collecting xlsxwriter\n",
            "\u001b[?25l  Downloading https://files.pythonhosted.org/packages/6b/41/bf1aae04932d1eaffee1fc5f8b38ca47bbbf07d765129539bc4bcce1ce0c/XlsxWriter-1.3.7-py2.py3-none-any.whl (144kB)\n",
            "\u001b[K     |████████████████████████████████| 153kB 4.2MB/s \n",
            "\u001b[?25hInstalling collected packages: xlsxwriter\n",
            "Successfully installed xlsxwriter-1.3.7\n",
            "Requirement already satisfied: xlrd in /usr/local/lib/python3.6/dist-packages (1.1.0)\n",
            "Collecting wikipedia-api\n",
            "  Downloading https://files.pythonhosted.org/packages/ef/3d/289963bbf51f8d00cdf7483cdc2baee25ba877e8b4eb72157c47211e3b57/Wikipedia-API-0.5.4.tar.gz\n",
            "Requirement already satisfied: requests in /usr/local/lib/python3.6/dist-packages (from wikipedia-api) (2.23.0)\n",
            "Requirement already satisfied: urllib3!=1.25.0,!=1.25.1,<1.26,>=1.21.1 in /usr/local/lib/python3.6/dist-packages (from requests->wikipedia-api) (1.24.3)\n",
            "Requirement already satisfied: certifi>=2017.4.17 in /usr/local/lib/python3.6/dist-packages (from requests->wikipedia-api) (2020.12.5)\n",
            "Requirement already satisfied: chardet<4,>=3.0.2 in /usr/local/lib/python3.6/dist-packages (from requests->wikipedia-api) (3.0.4)\n",
            "Requirement already satisfied: idna<3,>=2.5 in /usr/local/lib/python3.6/dist-packages (from requests->wikipedia-api) (2.10)\n",
            "Building wheels for collected packages: wikipedia-api\n",
            "  Building wheel for wikipedia-api (setup.py) ... \u001b[?25l\u001b[?25hdone\n",
            "  Created wheel for wikipedia-api: filename=Wikipedia_API-0.5.4-cp36-none-any.whl size=13462 sha256=00379d54dc1dc7cf737939da3e9b5d2910ad9bb19288c42cbaa6d2c4924a3963\n",
            "  Stored in directory: /root/.cache/pip/wheels/bf/40/42/ba1d497f3712281b659dd65b566fc868035c859239571a725a\n",
            "Successfully built wikipedia-api\n",
            "Installing collected packages: wikipedia-api\n",
            "Successfully installed wikipedia-api-0.5.4\n",
            "[nltk_data] Downloading package punkt to /root/nltk_data...\n",
            "[nltk_data]   Unzipping tokenizers/punkt.zip.\n"
          ],
          "name": "stdout"
        },
        {
          "output_type": "execute_result",
          "data": {
            "text/plain": [
              "True"
            ]
          },
          "metadata": {
            "tags": []
          },
          "execution_count": 3
        }
      ]
    },
    {
      "cell_type": "markdown",
      "metadata": {
        "id": "YNyRseIZVWM7"
      },
      "source": [
        "**import modules**"
      ]
    },
    {
      "cell_type": "code",
      "metadata": {
        "id": "EM6gCZFaVWM7"
      },
      "source": [
        "#summarization\n",
        "from sumy.parsers.html import HtmlParser\n",
        "from sumy.parsers.plaintext import PlaintextParser\n",
        "from sumy.nlp.tokenizers import Tokenizer\n",
        "from sumy.summarizers.lsa import LsaSummarizer\n",
        "from sumy.summarizers.text_rank import TextRankSummarizer\n",
        "from sumy.nlp.stemmers import Stemmer\n",
        "from sumy.utils import get_stop_words\n",
        "\n",
        "#utils\n",
        "from nltk.tokenize import sent_tokenize\n",
        "import pandas\n",
        "import random\n",
        "import numpy\n",
        "import time\n",
        "import random\n",
        "\n",
        "#evaluation\n",
        "from rouge import Rouge\n",
        "rouge = Rouge()\n",
        "\n",
        "#visualization\n",
        "import matplotlib.pyplot as plt\n",
        "\n",
        "#wiki\n",
        "import wikipediaapi\n",
        "wiki_wiki = wikipediaapi.Wikipedia('en')"
      ],
      "execution_count": null,
      "outputs": []
    },
    {
      "cell_type": "markdown",
      "metadata": {
        "id": "A3dPS_mACbUI"
      },
      "source": [
        "**Load** **models**"
      ]
    },
    {
      "cell_type": "code",
      "metadata": {
        "id": "sz4el7PeCaGy"
      },
      "source": [
        "stemmer = Stemmer(\"english\")\n",
        "\n",
        "#LSA summarizer\n",
        "lsa_summarizer = LsaSummarizer(stemmer)\n",
        "lsa_summarizer.stop_words=get_stop_words(\"english\")\n",
        "\n",
        "#TEXTRANK summarizer\n",
        "tr_summarizer = TextRankSummarizer(stemmer) \n",
        "tr_summarizer.stop_words=get_stop_words(\"english\")"
      ],
      "execution_count": null,
      "outputs": []
    },
    {
      "cell_type": "markdown",
      "metadata": {
        "id": "xQ5mbkwiVWM7"
      },
      "source": [
        "**Functions**"
      ]
    },
    {
      "cell_type": "code",
      "metadata": {
        "id": "GrIpYAM2VWM7"
      },
      "source": [
        "#get summary via LSA\n",
        "def get_summary_lsa(rawtext, num_of_sentences):\n",
        "    sentences = num_of_sentences #target size of summary\n",
        "\n",
        "    parser = PlaintextParser.from_string(rawtext, Tokenizer(\"english\"))\n",
        "\n",
        "    text_list = []\n",
        "    for sentence in lsa_summarizer(parser.document, sentences):\n",
        "        text_list.append(str(sentence))\n",
        "    txt =' '.join(text_list)\n",
        "\n",
        "    return(txt)\n",
        "\n",
        "#get summary via TR\n",
        "def get_summary_textrank(rawtext, num_of_sentences):\n",
        "    sentences = num_of_sentences #target size of summary\n",
        "\n",
        "    parser = PlaintextParser.from_string(rawtext), Tokenizer(\"english\"))\n",
        "\n",
        "    text_list = []\n",
        "    for sentence in tr_summarizer(parser.document, sentences):\n",
        "        text_list.append(str(sentence))\n",
        "    txt =' '.join(text_list)\n",
        "\n",
        "    return(txt)\n",
        "\n",
        "#get summary via random\n",
        "def get_summary_random(rawtext,target_num_of_sentences):\n",
        "    sentences=sent_tokenize(rawtext)\n",
        "    n_sentences=len(sentences)\n",
        "    if target_num_of_sentences >= n_sentences:\n",
        "        return(rawtext)\n",
        "    random_sentences=random.sample(sentences,target_num_of_sentences)\n",
        "    return(' '.join(random_sentences))\n",
        "\n",
        "#get rouge2 f-score \n",
        "def get_rouge_2_f(text1,text2):\n",
        "    scores = rouge.get_scores(text1, text2)\n",
        "    score_f=scores[0]['rouge-2']['f']\n",
        "    return(score_f)\n",
        "\n",
        "\n",
        "def evaluate(texts,summary_function,sent_n_values):\n",
        "    \n",
        "    rouge_2f_median_scores=[]\n",
        "    rouge_2f_deviation_values=[]\n",
        "\n",
        "    for sent_n in sent_n_values:\n",
        "        print('Evaluating for', sent_n,'sentences...')\n",
        "        \n",
        "        rouge_2f_scores=[]\n",
        "        i=0\n",
        "        for text in texts:\n",
        "            #preprocess\n",
        "            text=text.replace('\\n',' ')\n",
        "\n",
        "\n",
        "            summary=summary_function(text,sent_n)\n",
        "            \n",
        "            try:\n",
        "                score_r2f=get_rouge_2_f(summary,text)\n",
        "                rouge_2f_scores.append(score_r2f)\n",
        "            except:\n",
        "                print('Error when parsing')\n",
        "            \n",
        "            i=i+1\n",
        "            if i%200==0:\n",
        "                print(round(i/len(texts)*100,2),'%  done')\n",
        "\n",
        "        rouge_2f_median_scores.append(round(numpy.median(rouge_2f_scores),2))\n",
        "        rouge_2f_deviation_values.append(round(numpy.std(rouge_2f_scores),2))\n",
        "        \n",
        "        print(rouge_2f_median_scores)\n",
        "        print(rouge_2f_deviation_values)\n",
        "        \n",
        "    return rouge_2f_median_scores,rouge_2f_deviation_values\n",
        "\n",
        "def get_all_pages_down_category_tree(catmembers,output,level,levels_limit):\n",
        "  if level<=levels_limit:\n",
        "\n",
        "    for k in catmembers:\n",
        "      if catmembers[k].ns==0 and k not in output:\n",
        "        output.append(k)\n",
        "\n",
        "      if catmembers[k].ns==14 and k not in output:\n",
        "          cat = wiki_wiki.page(k)\n",
        "          print(cat)\n",
        "          output.append(k)\n",
        "          get_all_pages_down_category_tree(cat.categorymembers,output,level+1,levels_limit)\n",
        "        \n",
        "  if level>levels_limit:\n",
        "    return\n",
        "\n",
        "def extract_wiki_text(urlname):\n",
        "  \n",
        "  #get page by name\n",
        "  page_py = wiki_wiki.article(title=urlname)\n",
        "\n",
        "  #check if article\n",
        "  if not page_py.exists():\n",
        "    print('ERROR: not found ', urlname)\n",
        "    return ''\n",
        "\n",
        "  #get full text\n",
        "  article_text=page_py.text\n",
        "\n",
        "  return article_text"
      ],
      "execution_count": null,
      "outputs": []
    },
    {
      "cell_type": "markdown",
      "metadata": {
        "id": "fh3ANNNCG97-"
      },
      "source": [
        "**Collect** **articles from categories**"
      ]
    },
    {
      "cell_type": "code",
      "metadata": {
        "id": "VA5ntNadOuYT"
      },
      "source": [
        "%%time\n",
        "cat = wiki_wiki.page(\"Category:Artificial_intelligence\")\n",
        "ai_pages=[\"Category:Artificial_intelligence\"]\n",
        "get_all_pages_down_category_tree(cat.categorymembers,ai_pages,0,2)\n",
        "\n",
        "ai_articles=[page for page in ai_pages if page[:9]!='Category:'] #delete category pages\n",
        "print('Number of articles:',len(ai_articles))\n",
        "\n",
        "ai_articles_text=[extract_wiki_text(page) for page in ai_articles] #collect text for articles\n",
        "print('Articles collected:', len(ai_articles_text))"
      ],
      "execution_count": null,
      "outputs": []
    },
    {
      "cell_type": "code",
      "metadata": {
        "id": "GJL1aPv_YxC6"
      },
      "source": [
        "%%time\n",
        "cat = wiki_wiki.page(\"Category:Medicine\")\n",
        "md_pages=[\"Category:Medicine\"]\n",
        "get_all_pages_down_category_tree(cat.categorymembers,md_pages,0,2)\n",
        "\n",
        "md_articles=[page for page in md_pages if page[:9]!='Category:']\n",
        "print('Number of articles:',len(md_articles))\n",
        "\n",
        "md_articles_text=[extract_wiki_text(page) for page in md_articles]\n",
        "print('Articles collected:', len(md_articles_text))"
      ],
      "execution_count": null,
      "outputs": []
    },
    {
      "cell_type": "code",
      "metadata": {
        "id": "QkBxp5Kha3QB"
      },
      "source": [
        "%%time\n",
        "cat = wiki_wiki.page(\"Category:Chemistry\")\n",
        "ce_pages=[\"Category:Chemistry\"]\n",
        "get_all_pages_down_category_tree(cat.categorymembers,ce_pages,0,2)\n",
        "\n",
        "ce_articles=[page for page in ce_pages if page[:9]!='Category:']\n",
        "print('Number of articles:',len(ce_articles))\n",
        "\n",
        "ce_articles_text=[extract_wiki_text(page) for page in ce_articles]\n",
        "print('Articles collected:', len(ce_articles_text))"
      ],
      "execution_count": null,
      "outputs": []
    },
    {
      "cell_type": "code",
      "metadata": {
        "id": "NGqBF0kWb92r"
      },
      "source": [
        "%%time\n",
        "cat = wiki_wiki.page(\"Category:Physics\")\n",
        "tp_pages=[\"Category:Physics\"]\n",
        "get_all_pages_down_category_tree(cat.categorymembers,tp_pages,0,2)\n",
        "\n",
        "tp_articles=[page for page in tp_pages if page[:9]!='Category:']\n",
        "print('Number of articles:',len(tp_articles))\n",
        "\n",
        "tp_articles_text=[extract_wiki_text(page) for page in tp_articles]\n",
        "print('Articles collected:', len(tp_articles_text))"
      ],
      "execution_count": null,
      "outputs": []
    },
    {
      "cell_type": "markdown",
      "metadata": {
        "id": "cJMs-2rZH_P4"
      },
      "source": [
        "**Count number of articles of desired size**"
      ]
    },
    {
      "cell_type": "code",
      "metadata": {
        "colab": {
          "base_uri": "https://localhost:8080/"
        },
        "id": "04ci-YLaoxfd",
        "outputId": "230a8b0b-fe6f-47d3-8317-8d343ac90e84"
      },
      "source": [
        "target_length = 50\n",
        "\n",
        "target_ai_articles_text=[ text for text in ai_articles_text if len(sent_tokenize(text))>target_length-1]\n",
        "target_md_articles_text=[ text for text in md_articles_text if len(sent_tokenize(text))>target_length-1]\n",
        "target_ce_articles_text=[ text for text in ce_articles_text if len(sent_tokenize(text))>target_length-1]\n",
        "target_tp_articles_text=[ text for text in tp_articles_text if len(sent_tokenize(text))>target_length-1]\n",
        "\n",
        "print('Num of articles of desired length:',len(target_ai_articles_text))\n",
        "print('Num of articles of desired length:',len(target_md_articles_text))\n",
        "print('Num of articles of desired length:',len(target_ce_articles_text))\n",
        "print('Num of articles of desired length:',len(target_tp_articles_text))"
      ],
      "execution_count": null,
      "outputs": [
        {
          "output_type": "stream",
          "text": [
            "Num of articles of desired length: 1907\n",
            "Num of articles of desired length: 2115\n",
            "Num of articles of desired length: 3968\n",
            "Num of articles of desired length: 2411\n"
          ],
          "name": "stdout"
        }
      ]
    },
    {
      "cell_type": "markdown",
      "metadata": {
        "id": "rMpK4ho_IL0t"
      },
      "source": [
        "**make categories balanced**"
      ]
    },
    {
      "cell_type": "code",
      "metadata": {
        "colab": {
          "base_uri": "https://localhost:8080/"
        },
        "id": "2A8p8wG5pn8k",
        "outputId": "5bea6a1b-e52f-4d17-f007-0f97e5b0761d"
      },
      "source": [
        "num_of_articles=1907\n",
        "\n",
        "balanced_target_ai_articles_text=random.sample(target_ai_articles_text,num_of_articles)\n",
        "balanced_target_md_articles_text=random.sample(target_md_articles_text,num_of_articles)\n",
        "balanced_target_ce_articles_text=random.sample(target_ce_articles_text,num_of_articles)\n",
        "balanced_target_tp_articles_text=random.sample(target_tp_articles_text,num_of_articles)\n",
        "\n",
        "print(len(balanced_target_ai_articles_text))\n",
        "print(len(balanced_target_md_articles_text))\n",
        "print(len(balanced_target_ce_articles_text))\n",
        "print(len(balanced_target_tp_articles_text))"
      ],
      "execution_count": null,
      "outputs": [
        {
          "output_type": "stream",
          "text": [
            "1907\n",
            "1907\n",
            "1907\n",
            "1907\n"
          ],
          "name": "stdout"
        }
      ]
    },
    {
      "cell_type": "markdown",
      "metadata": {
        "id": "avCF8RBGJAjJ"
      },
      "source": [
        "**Normalize articles length**"
      ]
    },
    {
      "cell_type": "code",
      "metadata": {
        "id": "amAY8O-DqGEm"
      },
      "source": [
        "cut_balanced_target_ai_articles_text=[' '.join(sent_tokenize(text)[:target_length]) for text in balanced_target_ai_articles_text]\n",
        "cut_balanced_target_md_articles_text=[' '.join(sent_tokenize(text)[:target_length]) for text in balanced_target_md_articles_text]\n",
        "cut_balanced_target_ce_articles_text=[' '.join(sent_tokenize(text)[:target_length]) for text in balanced_target_ce_articles_text]\n",
        "cut_balanced_target_tp_articles_text=[' '.join(sent_tokenize(text)[:target_length]) for text in balanced_target_tp_articles_text]"
      ],
      "execution_count": null,
      "outputs": []
    },
    {
      "cell_type": "markdown",
      "metadata": {
        "id": "oIxnjKbEJZ3k"
      },
      "source": [
        "**Save corpus**"
      ]
    },
    {
      "cell_type": "code",
      "metadata": {
        "colab": {
          "base_uri": "https://localhost:8080/"
        },
        "id": "FqQS9tOmqguM",
        "outputId": "1a5ce4d1-0efe-495a-9a04-9a526a78f7f7"
      },
      "source": [
        "corpus_texts=cut_balanced_target_ai_articles_text+cut_balanced_target_md_articles_text+cut_balanced_target_ce_articles_text+cut_balanced_target_tp_articles_text\n",
        "corpus_texts=set(corpus_texts)\n",
        "print('Corpus size:',len(corpus_texts))"
      ],
      "execution_count": null,
      "outputs": [
        {
          "output_type": "stream",
          "text": [
            "Corpus size: 7232\n"
          ],
          "name": "stdout"
        }
      ]
    },
    {
      "cell_type": "code",
      "metadata": {
        "id": "nMhCGv6oq-Zk"
      },
      "source": [
        "new_list = corpus_texts\n",
        "df = pandas.DataFrame(new_list)\n",
        "writer = pandas.ExcelWriter('domain_corpus_7000_50.xlsx', engine='xlsxwriter')\n",
        "df.to_excel(writer, sheet_name='corpus', index=False)\n",
        "writer.save()"
      ],
      "execution_count": null,
      "outputs": []
    },
    {
      "cell_type": "markdown",
      "metadata": {
        "id": "2b1IxtCwJehl"
      },
      "source": [
        "**Load corpus**"
      ]
    },
    {
      "cell_type": "code",
      "metadata": {
        "colab": {
          "base_uri": "https://localhost:8080/",
          "height": 405
        },
        "id": "RDkQgIO9wSBl",
        "outputId": "d2107384-a4cd-45f0-b29b-13be35247d25"
      },
      "source": [
        "df = pandas.read_excel('/content/domain_corpus_7000_50.xlsx')\n",
        "corpus_texts=df[0].tolist()\n",
        "corpus_texts=[str(text) for text in corpus_texts]\n",
        "df"
      ],
      "execution_count": null,
      "outputs": [
        {
          "output_type": "execute_result",
          "data": {
            "text/html": [
              "<div>\n",
              "<style scoped>\n",
              "    .dataframe tbody tr th:only-of-type {\n",
              "        vertical-align: middle;\n",
              "    }\n",
              "\n",
              "    .dataframe tbody tr th {\n",
              "        vertical-align: top;\n",
              "    }\n",
              "\n",
              "    .dataframe thead th {\n",
              "        text-align: right;\n",
              "    }\n",
              "</style>\n",
              "<table border=\"1\" class=\"dataframe\">\n",
              "  <thead>\n",
              "    <tr style=\"text-align: right;\">\n",
              "      <th></th>\n",
              "      <th>0</th>\n",
              "    </tr>\n",
              "  </thead>\n",
              "  <tbody>\n",
              "    <tr>\n",
              "      <th>0</th>\n",
              "      <td>Foot Clan is a fictional ninja clan in the Tee...</td>\n",
              "    </tr>\n",
              "    <tr>\n",
              "      <th>1</th>\n",
              "      <td>Paul Jorion (born 22 July 1946 in Brussels) is...</td>\n",
              "    </tr>\n",
              "    <tr>\n",
              "      <th>2</th>\n",
              "      <td>Perfusion is the passage of fluid through the ...</td>\n",
              "    </tr>\n",
              "    <tr>\n",
              "      <th>3</th>\n",
              "      <td>Biomedical waste or hospital waste is any kind...</td>\n",
              "    </tr>\n",
              "    <tr>\n",
              "      <th>4</th>\n",
              "      <td>ASCII stereograms are a form of ASCII art base...</td>\n",
              "    </tr>\n",
              "    <tr>\n",
              "      <th>...</th>\n",
              "      <td>...</td>\n",
              "    </tr>\n",
              "    <tr>\n",
              "      <th>7227</th>\n",
              "      <td>Oak Ridge National Laboratory (abbreviated as ...</td>\n",
              "    </tr>\n",
              "    <tr>\n",
              "      <th>7228</th>\n",
              "      <td>A Life Model Decoy (frequently known by the ab...</td>\n",
              "    </tr>\n",
              "    <tr>\n",
              "      <th>7229</th>\n",
              "      <td>The study of interdependent networks is a subf...</td>\n",
              "    </tr>\n",
              "    <tr>\n",
              "      <th>7230</th>\n",
              "      <td>Brass is an alloy of copper and zinc, in propo...</td>\n",
              "    </tr>\n",
              "    <tr>\n",
              "      <th>7231</th>\n",
              "      <td>Sonoluminescence is the emission of short burs...</td>\n",
              "    </tr>\n",
              "  </tbody>\n",
              "</table>\n",
              "<p>7232 rows × 1 columns</p>\n",
              "</div>"
            ],
            "text/plain": [
              "                                                      0\n",
              "0     Foot Clan is a fictional ninja clan in the Tee...\n",
              "1     Paul Jorion (born 22 July 1946 in Brussels) is...\n",
              "2     Perfusion is the passage of fluid through the ...\n",
              "3     Biomedical waste or hospital waste is any kind...\n",
              "4     ASCII stereograms are a form of ASCII art base...\n",
              "...                                                 ...\n",
              "7227  Oak Ridge National Laboratory (abbreviated as ...\n",
              "7228  A Life Model Decoy (frequently known by the ab...\n",
              "7229  The study of interdependent networks is a subf...\n",
              "7230  Brass is an alloy of copper and zinc, in propo...\n",
              "7231  Sonoluminescence is the emission of short burs...\n",
              "\n",
              "[7232 rows x 1 columns]"
            ]
          },
          "metadata": {
            "tags": []
          },
          "execution_count": 14
        }
      ]
    },
    {
      "cell_type": "markdown",
      "metadata": {
        "id": "ctnrcntbVWM8"
      },
      "source": [
        "**Evaluate**"
      ]
    },
    {
      "cell_type": "code",
      "metadata": {
        "colab": {
          "base_uri": "https://localhost:8080/"
        },
        "id": "4Ywk9laBVWM8",
        "scrolled": true,
        "outputId": "64152bfa-7f28-4c6d-fd86-dcfb8af68852"
      },
      "source": [
        "#points for evaluation\n",
        "target_length=50\n",
        "cut=target_length\n",
        "sent_n_values= list(range(int(cut*0.1),cut,int(cut*0.1))) + [cut]\n",
        "print(sent_n_values)"
      ],
      "execution_count": null,
      "outputs": [
        {
          "output_type": "stream",
          "text": [
            "[5, 10, 15, 20, 25, 30, 35, 40, 45, 50]\n"
          ],
          "name": "stdout"
        }
      ]
    },
    {
      "cell_type": "code",
      "metadata": {
        "id": "vqdenrWFBh7u"
      },
      "source": [
        "\n",
        "#evaluated\n",
        "random_method_r2f=[0.17, 0.32, 0.44, 0.55, 0.64, 0.72, 0.79, 0.86, 0.91,1.0]\n",
        "random_method_deviation =[0.05, 0.05, 0.06, 0.06, 0.06, 0.05, 0.05, 0.04, 0.04,0.04]\n",
        "\n",
        "textrank_method_r2f=[0.3, 0.47, 0.59, 0.69, 0.76, 0.83, 0.88, 0.93, 0.97, 1.0]\n",
        "textrank_method_deviation=[0.08, 0.08, 0.07, 0.06, 0.05, 0.05, 0.04, 0.04, 0.04, 0.04]\n",
        "\n",
        "lsa_method_r2f =[0.23, 0.4, 0.53, 0.63, 0.73, 0.8,0.87, 0.93, 0.97, 1.0]\n",
        "lsa_method_deviation=[0.06, 0.07, 0.07, 0.07, 0.06, 0.05,0.04, 0.03, 0.02, 0.0]\n"
      ],
      "execution_count": null,
      "outputs": []
    },
    {
      "cell_type": "code",
      "metadata": {
        "id": "-XA0VpQPVWM9",
        "scrolled": true
      },
      "source": [
        "random_method_r2f, random_method_deviation = evaluate(corpus_texts,get_summary_random,[5])"
      ],
      "execution_count": null,
      "outputs": []
    },
    {
      "cell_type": "code",
      "metadata": {
        "id": "c9y9aYImVWM9",
        "scrolled": false
      },
      "source": [
        "%%time\n",
        "textrank_method_r2f, textrank_method_deviation = evaluate(corpus_texts,get_summary_textrank,[5])"
      ],
      "execution_count": null,
      "outputs": []
    },
    {
      "cell_type": "code",
      "metadata": {
        "id": "GHc58eCzVWM9",
        "scrolled": true
      },
      "source": [
        "%time\n",
        "lsa_method_r2f, lsa_method_deviation = evaluate(corpus_texts,get_summary_lsa,[45, 50])"
      ],
      "execution_count": null,
      "outputs": []
    },
    {
      "cell_type": "markdown",
      "metadata": {
        "id": "f13C2d_nW8CM"
      },
      "source": [
        "**print graph**"
      ]
    },
    {
      "cell_type": "code",
      "metadata": {
        "colab": {
          "base_uri": "https://localhost:8080/",
          "height": 513
        },
        "id": "oQUkk4XzVWM9",
        "scrolled": true,
        "outputId": "96a695c4-6c44-4a28-f6c6-dc24db6dcf21"
      },
      "source": [
        "# Data\n",
        "\n",
        "\n",
        "df=pandas.DataFrame({\n",
        "    'N_sent': [0]+[10,20,30,40,50,60,70,80,90,100],\n",
        "    'random': [0]+random_method_r2f,\n",
        "    'textrank':[0]+textrank_method_r2f,'textrank_deviation':[0]+textrank_method_deviation ,\n",
        "    'lsa':[0]+lsa_method_r2f ,'lsa_deviation': [0]+lsa_method_deviation\n",
        "    })\n",
        " \n",
        "plt.figure(figsize=(8,8)) \n",
        "# multiple line plot\n",
        "plt.plot( 'N_sent', 'random', data=df, marker='o', markerfacecolor='blue', markersize=8, color='blue', linewidth=4)\n",
        "plt.plot( 'N_sent', 'textrank', data=df, marker='o',markerfacecolor='green', markersize=8, color='lime', linewidth=3)\n",
        "plt.plot( 'N_sent', 'lsa', data=df, marker='o',markerfacecolor='orange', markersize=8, color='gold', linewidth=2)\n",
        "plt.errorbar('N_sent', 'textrank','textrank_deviation',data=df, linestyle='None',color='lime',uplims=True, lolims=True,label='textrank deviation')\n",
        "plt.errorbar('N_sent', 'lsa','lsa_deviation',data=df, linestyle='None',color='gold',uplims=True, lolims=True,label='textrank deviation')\n",
        "plt.legend(prop={'size': 20})\n",
        "plt.ylabel(\"INFORMATION SAVED\")\n",
        "plt.xlabel('% OF TEXT')\n",
        "plt.title('WikiCorpus')\n",
        "plt.grid()\n",
        "plt.show()"
      ],
      "execution_count": null,
      "outputs": [
        {
          "output_type": "display_data",
          "data": {
            "image/png": "[encoded data removed]",
            "text/plain": [
              "<Figure size 576x576 with 1 Axes>"
            ]
          },
          "metadata": {
            "tags": [],
            "needs_background": "light"
          }
        }
      ]
    },
    {
      "cell_type": "code",
      "metadata": {
        "id": "up4fRnjLVWM9"
      },
      "source": [
        ""
      ],
      "execution_count": null,
      "outputs": []
    }
  ]
}